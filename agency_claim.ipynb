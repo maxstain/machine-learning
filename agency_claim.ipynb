{
 "cells": [
  {
   "cell_type": "code",
   "id": "initial_id",
   "metadata": {
    "collapsed": true,
    "ExecuteTime": {
     "end_time": "2025-04-28T08:18:26.515404Z",
     "start_time": "2025-04-28T08:18:25.252038Z"
    }
   },
   "source": [
    "import pandas as pd\n",
    "\n",
    "# Load the dataset (replace 'your_dataset.csv' with the file path)\n",
    "df = pd.read_csv(\"data/dataset.csv\")\n",
    "\n",
    "# Display the first few rows to understand the structure\n",
    "print(df.head())\n"
   ],
   "outputs": [
    {
     "name": "stdout",
     "output_type": "stream",
     "text": [
      "  Agency Type Distribution Channel Product Name Claim  Duration  \\\n",
      "0    Airlines               Online   Basic Plan    No     104.0   \n",
      "1    Airlines               Online   Basic Plan    No       2.0   \n",
      "2    Airlines               Online   Basic Plan    No       3.0   \n",
      "3    Airlines               Online   Value Plan    No       1.0   \n",
      "4    Airlines               Online   Basic Plan    No      14.0   \n",
      "\n",
      "                 Destination  Net Sales  Commission (in value) Gender    Age  \n",
      "0  TAIWAN, PROVINCE OF CHINA       35.0                  12.25      M   34.0  \n",
      "1                   MALAYSIA       18.0                   6.30      M   44.0  \n",
      "2                   MALAYSIA       18.0                   6.30      M   45.0  \n",
      "3                      INDIA       62.0                  24.80      M  118.0  \n",
      "4                  HONG KONG       26.0                   9.10      F   43.0  \n"
     ]
    }
   ],
   "execution_count": 1
  },
  {
   "metadata": {
    "ExecuteTime": {
     "end_time": "2025-04-28T08:18:26.577064Z",
     "start_time": "2025-04-28T08:18:26.558320Z"
    }
   },
   "cell_type": "code",
   "source": [
    "# Check for missing values and calculate the percentage\n",
    "missing_values = df.isnull().sum()\n",
    "missing_percentage = (missing_values / len(df)) * 100\n",
    "\n",
    "# Combine into a single DataFrame for better readability\n",
    "missing_summary = pd.DataFrame({\n",
    "    'Missing Values': missing_values,\n",
    "    'Percentage': missing_percentage\n",
    "}).sort_values(by='Percentage', ascending=False)\n",
    "\n",
    "# Display the summary\n",
    "print(missing_summary)\n",
    "\n"
   ],
   "id": "1ec789fa3fc80527",
   "outputs": [
    {
     "name": "stdout",
     "output_type": "stream",
     "text": [
      "                       Missing Values  Percentage\n",
      "Agency Type                         0         0.0\n",
      "Distribution Channel                0         0.0\n",
      "Product Name                        0         0.0\n",
      "Claim                               0         0.0\n",
      "Duration                            0         0.0\n",
      "Destination                         0         0.0\n",
      "Net Sales                           0         0.0\n",
      "Commission (in value)               0         0.0\n",
      "Gender                              0         0.0\n",
      "Age                                 0         0.0\n"
     ]
    }
   ],
   "execution_count": 2
  },
  {
   "metadata": {
    "ExecuteTime": {
     "end_time": "2025-04-28T08:18:27.076019Z",
     "start_time": "2025-04-28T08:18:27.046832Z"
    }
   },
   "cell_type": "code",
   "source": [
    "# Drop a single column by name\n",
    "df.dropna()\n"
   ],
   "id": "1e7c98c60ba9209e",
   "outputs": [
    {
     "data": {
      "text/plain": [
       "     Agency Type Distribution Channel Product Name Claim  Duration  \\\n",
       "0       Airlines               Online   Basic Plan    No     104.0   \n",
       "1       Airlines               Online   Basic Plan    No       2.0   \n",
       "2       Airlines               Online   Basic Plan    No       3.0   \n",
       "3       Airlines               Online   Value Plan    No       1.0   \n",
       "4       Airlines               Online   Basic Plan    No      14.0   \n",
       "...          ...                  ...          ...   ...       ...   \n",
       "4156    Airlines               Online  Bronze Plan    No      15.0   \n",
       "4157    Airlines               Online  Bronze Plan    No      20.0   \n",
       "4158    Airlines               Online  Bronze Plan    No      16.0   \n",
       "4159    Airlines               Online   Basic Plan    No      15.0   \n",
       "4160    Airlines               Online   Basic Plan    No      22.0   \n",
       "\n",
       "                    Destination  Net Sales  Commission (in value) Gender  \\\n",
       "0     TAIWAN, PROVINCE OF CHINA       35.0                  12.25      M   \n",
       "1                      MALAYSIA       18.0                   6.30      M   \n",
       "2                      MALAYSIA       18.0                   6.30      M   \n",
       "3                         INDIA       62.0                  24.80      M   \n",
       "4                     HONG KONG       26.0                   9.10      F   \n",
       "...                         ...        ...                    ...    ...   \n",
       "4156                  SINGAPORE       23.5                   5.88      F   \n",
       "4157                  SINGAPORE       27.0                   6.75      F   \n",
       "4158                  SINGAPORE       27.0                   6.75      F   \n",
       "4159                   MALAYSIA       18.0                   6.30      M   \n",
       "4160                   VIET NAM       22.0                   7.70      F   \n",
       "\n",
       "        Age  \n",
       "0      34.0  \n",
       "1      44.0  \n",
       "2      45.0  \n",
       "3     118.0  \n",
       "4      43.0  \n",
       "...     ...  \n",
       "4156   69.0  \n",
       "4157   51.0  \n",
       "4158   34.0  \n",
       "4159   35.0  \n",
       "4160   32.0  \n",
       "\n",
       "[4161 rows x 10 columns]"
      ],
      "text/html": [
       "<div>\n",
       "<style scoped>\n",
       "    .dataframe tbody tr th:only-of-type {\n",
       "        vertical-align: middle;\n",
       "    }\n",
       "\n",
       "    .dataframe tbody tr th {\n",
       "        vertical-align: top;\n",
       "    }\n",
       "\n",
       "    .dataframe thead th {\n",
       "        text-align: right;\n",
       "    }\n",
       "</style>\n",
       "<table border=\"1\" class=\"dataframe\">\n",
       "  <thead>\n",
       "    <tr style=\"text-align: right;\">\n",
       "      <th></th>\n",
       "      <th>Agency Type</th>\n",
       "      <th>Distribution Channel</th>\n",
       "      <th>Product Name</th>\n",
       "      <th>Claim</th>\n",
       "      <th>Duration</th>\n",
       "      <th>Destination</th>\n",
       "      <th>Net Sales</th>\n",
       "      <th>Commission (in value)</th>\n",
       "      <th>Gender</th>\n",
       "      <th>Age</th>\n",
       "    </tr>\n",
       "  </thead>\n",
       "  <tbody>\n",
       "    <tr>\n",
       "      <th>0</th>\n",
       "      <td>Airlines</td>\n",
       "      <td>Online</td>\n",
       "      <td>Basic Plan</td>\n",
       "      <td>No</td>\n",
       "      <td>104.0</td>\n",
       "      <td>TAIWAN, PROVINCE OF CHINA</td>\n",
       "      <td>35.0</td>\n",
       "      <td>12.25</td>\n",
       "      <td>M</td>\n",
       "      <td>34.0</td>\n",
       "    </tr>\n",
       "    <tr>\n",
       "      <th>1</th>\n",
       "      <td>Airlines</td>\n",
       "      <td>Online</td>\n",
       "      <td>Basic Plan</td>\n",
       "      <td>No</td>\n",
       "      <td>2.0</td>\n",
       "      <td>MALAYSIA</td>\n",
       "      <td>18.0</td>\n",
       "      <td>6.30</td>\n",
       "      <td>M</td>\n",
       "      <td>44.0</td>\n",
       "    </tr>\n",
       "    <tr>\n",
       "      <th>2</th>\n",
       "      <td>Airlines</td>\n",
       "      <td>Online</td>\n",
       "      <td>Basic Plan</td>\n",
       "      <td>No</td>\n",
       "      <td>3.0</td>\n",
       "      <td>MALAYSIA</td>\n",
       "      <td>18.0</td>\n",
       "      <td>6.30</td>\n",
       "      <td>M</td>\n",
       "      <td>45.0</td>\n",
       "    </tr>\n",
       "    <tr>\n",
       "      <th>3</th>\n",
       "      <td>Airlines</td>\n",
       "      <td>Online</td>\n",
       "      <td>Value Plan</td>\n",
       "      <td>No</td>\n",
       "      <td>1.0</td>\n",
       "      <td>INDIA</td>\n",
       "      <td>62.0</td>\n",
       "      <td>24.80</td>\n",
       "      <td>M</td>\n",
       "      <td>118.0</td>\n",
       "    </tr>\n",
       "    <tr>\n",
       "      <th>4</th>\n",
       "      <td>Airlines</td>\n",
       "      <td>Online</td>\n",
       "      <td>Basic Plan</td>\n",
       "      <td>No</td>\n",
       "      <td>14.0</td>\n",
       "      <td>HONG KONG</td>\n",
       "      <td>26.0</td>\n",
       "      <td>9.10</td>\n",
       "      <td>F</td>\n",
       "      <td>43.0</td>\n",
       "    </tr>\n",
       "    <tr>\n",
       "      <th>...</th>\n",
       "      <td>...</td>\n",
       "      <td>...</td>\n",
       "      <td>...</td>\n",
       "      <td>...</td>\n",
       "      <td>...</td>\n",
       "      <td>...</td>\n",
       "      <td>...</td>\n",
       "      <td>...</td>\n",
       "      <td>...</td>\n",
       "      <td>...</td>\n",
       "    </tr>\n",
       "    <tr>\n",
       "      <th>4156</th>\n",
       "      <td>Airlines</td>\n",
       "      <td>Online</td>\n",
       "      <td>Bronze Plan</td>\n",
       "      <td>No</td>\n",
       "      <td>15.0</td>\n",
       "      <td>SINGAPORE</td>\n",
       "      <td>23.5</td>\n",
       "      <td>5.88</td>\n",
       "      <td>F</td>\n",
       "      <td>69.0</td>\n",
       "    </tr>\n",
       "    <tr>\n",
       "      <th>4157</th>\n",
       "      <td>Airlines</td>\n",
       "      <td>Online</td>\n",
       "      <td>Bronze Plan</td>\n",
       "      <td>No</td>\n",
       "      <td>20.0</td>\n",
       "      <td>SINGAPORE</td>\n",
       "      <td>27.0</td>\n",
       "      <td>6.75</td>\n",
       "      <td>F</td>\n",
       "      <td>51.0</td>\n",
       "    </tr>\n",
       "    <tr>\n",
       "      <th>4158</th>\n",
       "      <td>Airlines</td>\n",
       "      <td>Online</td>\n",
       "      <td>Bronze Plan</td>\n",
       "      <td>No</td>\n",
       "      <td>16.0</td>\n",
       "      <td>SINGAPORE</td>\n",
       "      <td>27.0</td>\n",
       "      <td>6.75</td>\n",
       "      <td>F</td>\n",
       "      <td>34.0</td>\n",
       "    </tr>\n",
       "    <tr>\n",
       "      <th>4159</th>\n",
       "      <td>Airlines</td>\n",
       "      <td>Online</td>\n",
       "      <td>Basic Plan</td>\n",
       "      <td>No</td>\n",
       "      <td>15.0</td>\n",
       "      <td>MALAYSIA</td>\n",
       "      <td>18.0</td>\n",
       "      <td>6.30</td>\n",
       "      <td>M</td>\n",
       "      <td>35.0</td>\n",
       "    </tr>\n",
       "    <tr>\n",
       "      <th>4160</th>\n",
       "      <td>Airlines</td>\n",
       "      <td>Online</td>\n",
       "      <td>Basic Plan</td>\n",
       "      <td>No</td>\n",
       "      <td>22.0</td>\n",
       "      <td>VIET NAM</td>\n",
       "      <td>22.0</td>\n",
       "      <td>7.70</td>\n",
       "      <td>F</td>\n",
       "      <td>32.0</td>\n",
       "    </tr>\n",
       "  </tbody>\n",
       "</table>\n",
       "<p>4161 rows × 10 columns</p>\n",
       "</div>"
      ]
     },
     "execution_count": 3,
     "metadata": {},
     "output_type": "execute_result"
    }
   ],
   "execution_count": 3
  },
  {
   "metadata": {
    "ExecuteTime": {
     "end_time": "2025-04-28T08:18:27.240354Z",
     "start_time": "2025-04-28T08:18:27.230209Z"
    }
   },
   "cell_type": "code",
   "source": "df.dtypes",
   "id": "cbf241eed586c740",
   "outputs": [
    {
     "data": {
      "text/plain": [
       "Agency Type               object\n",
       "Distribution Channel      object\n",
       "Product Name              object\n",
       "Claim                     object\n",
       "Duration                 float64\n",
       "Destination               object\n",
       "Net Sales                float64\n",
       "Commission (in value)    float64\n",
       "Gender                    object\n",
       "Age                      float64\n",
       "dtype: object"
      ]
     },
     "execution_count": 4,
     "metadata": {},
     "output_type": "execute_result"
    }
   ],
   "execution_count": 4
  },
  {
   "metadata": {
    "ExecuteTime": {
     "end_time": "2025-04-28T08:19:12.628782Z",
     "start_time": "2025-04-28T08:19:12.618008Z"
    }
   },
   "cell_type": "code",
   "source": [
    "# Change column data types\n",
    "df = df.astype({\n",
    "    'Agency Type': 'string',\n",
    "    'Distribution Channel': 'string',\n",
    "    'Product Name': 'string',\n",
    "    'Claim': 'string',\n",
    "    'Duration': 'float64',\n",
    "    'Destination': 'string',\n",
    "    'Net Sales': 'float64',\n",
    "    'Commission (in value)': 'float64'\n",
    "})\n",
    "\n",
    "# Verify the changes\n",
    "print(df.dtypes)"
   ],
   "id": "19d461fa9593d27f",
   "outputs": [
    {
     "name": "stdout",
     "output_type": "stream",
     "text": [
      "Agency Type              string[python]\n",
      "Distribution Channel     string[python]\n",
      "Product Name             string[python]\n",
      "Claim                    string[python]\n",
      "Duration                        float64\n",
      "Destination              string[python]\n",
      "Net Sales                       float64\n",
      "Commission (in value)           float64\n",
      "Gender                           object\n",
      "Age                             float64\n",
      "dtype: object\n"
     ]
    }
   ],
   "execution_count": 6
  },
  {
   "metadata": {
    "ExecuteTime": {
     "end_time": "2025-04-28T08:19:30.829343Z",
     "start_time": "2025-04-28T08:19:30.811991Z"
    }
   },
   "cell_type": "code",
   "source": "print(df.describe())\n",
   "id": "c3a0b714bb730ee4",
   "outputs": [
    {
     "name": "stdout",
     "output_type": "stream",
     "text": [
      "          Duration    Net Sales  Commission (in value)          Age\n",
      "count  4161.000000  4161.000000            4161.000000  4161.000000\n",
      "mean     58.475366    53.000000              16.559793    46.797164\n",
      "std      98.861468    73.587873              18.737965    21.122074\n",
      "min      -2.000000  -389.000000               0.770000     1.000000\n",
      "25%       9.000000    22.000000               7.700000    33.000000\n",
      "50%      20.000000    29.000000               9.570000    43.000000\n",
      "75%      51.000000    46.150000              15.750000    53.000000\n",
      "max     740.000000   810.000000             283.500000   118.000000\n"
     ]
    }
   ],
   "execution_count": 8
  },
  {
   "metadata": {
    "ExecuteTime": {
     "end_time": "2025-04-28T08:19:36.343227Z",
     "start_time": "2025-04-28T08:19:33.951179Z"
    }
   },
   "cell_type": "code",
   "source": [
    "from sklearn.preprocessing import MinMaxScaler\n",
    "\n",
    "# Numerical features to scale\n",
    "numerical_features = ['Duration', 'Net Sales', 'Commission (in value)', 'Age']\n",
    "\n",
    "# Categorical features to include\n",
    "categorical_features = ['Agency Type', 'Distribution Channel', 'Product Name', 'Destination', 'Claim']\n",
    "\n",
    "# Scale numerical features\n",
    "scaler = MinMaxScaler()\n",
    "scaled_numerical = scaler.fit_transform(df[numerical_features])\n",
    "\n",
    "# Create a DataFrame for scaled numerical features\n",
    "df_scaled_numerical = pd.DataFrame(scaled_numerical, columns=numerical_features)\n",
    "\n",
    "# Combine scaled numerical and categorical features\n",
    "df_final = pd.concat([df_scaled_numerical, df[categorical_features].reset_index(drop=True)], axis=1)\n",
    "\n",
    "# Verify the resulting DataFrame\n",
    "print(df_final.head())\n",
    "\n",
    "\n"
   ],
   "id": "70ac38613544da3a",
   "outputs": [
    {
     "name": "stdout",
     "output_type": "stream",
     "text": [
      "   Duration  Net Sales  Commission (in value)       Age Agency Type  \\\n",
      "0  0.142857   0.353628               0.040604  0.282051    Airlines   \n",
      "1  0.005391   0.339450               0.019559  0.367521    Airlines   \n",
      "2  0.006739   0.339450               0.019559  0.376068    Airlines   \n",
      "3  0.004043   0.376147               0.084993  1.000000    Airlines   \n",
      "4  0.021563   0.346122               0.029463  0.358974    Airlines   \n",
      "\n",
      "  Distribution Channel Product Name                Destination Claim  \n",
      "0               Online   Basic Plan  TAIWAN, PROVINCE OF CHINA    No  \n",
      "1               Online   Basic Plan                   MALAYSIA    No  \n",
      "2               Online   Basic Plan                   MALAYSIA    No  \n",
      "3               Online   Value Plan                      INDIA    No  \n",
      "4               Online   Basic Plan                  HONG KONG    No  \n"
     ]
    }
   ],
   "execution_count": 9
  },
  {
   "metadata": {
    "ExecuteTime": {
     "end_time": "2025-04-28T08:19:47.193225Z",
     "start_time": "2025-04-28T08:19:47.184132Z"
    }
   },
   "cell_type": "code",
   "source": "df_final.dtypes",
   "id": "fcf43e17c6fad5c2",
   "outputs": [
    {
     "data": {
      "text/plain": [
       "Duration                        float64\n",
       "Net Sales                       float64\n",
       "Commission (in value)           float64\n",
       "Age                             float64\n",
       "Agency Type              string[python]\n",
       "Distribution Channel     string[python]\n",
       "Product Name             string[python]\n",
       "Destination              string[python]\n",
       "Claim                    string[python]\n",
       "dtype: object"
      ]
     },
     "execution_count": 10,
     "metadata": {},
     "output_type": "execute_result"
    }
   ],
   "execution_count": 10
  },
  {
   "metadata": {
    "ExecuteTime": {
     "end_time": "2025-04-28T08:18:27.964030100Z",
     "start_time": "2025-04-25T23:04:40.078274Z"
    }
   },
   "cell_type": "code",
   "source": "",
   "id": "ac6c7fa52da96be5",
   "outputs": [],
   "execution_count": 7
  }
 ],
 "metadata": {
  "kernelspec": {
   "display_name": "Python 3",
   "language": "python",
   "name": "python3"
  },
  "language_info": {
   "codemirror_mode": {
    "name": "ipython",
    "version": 2
   },
   "file_extension": ".py",
   "mimetype": "text/x-python",
   "name": "python",
   "nbconvert_exporter": "python",
   "pygments_lexer": "ipython2",
   "version": "2.7.6"
  }
 },
 "nbformat": 4,
 "nbformat_minor": 5
}
