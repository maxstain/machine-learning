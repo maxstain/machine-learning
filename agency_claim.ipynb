{
 "cells": [
  {
   "cell_type": "code",
   "id": "initial_id",
   "metadata": {
    "collapsed": true,
    "ExecuteTime": {
     "end_time": "2025-04-25T23:04:39.910298Z",
     "start_time": "2025-04-25T23:04:39.030256Z"
    }
   },
   "source": [
    "import pandas as pd\n",
    "\n",
    "# Load the dataset (replace 'your_dataset.csv' with the file path)\n",
    "df = pd.read_csv(\"./data/raw/dataset.csv\")\n",
    "\n",
    "# Display the first few rows to understand the structure\n",
    "print(df.head())\n"
   ],
   "outputs": [
    {
     "name": "stdout",
     "output_type": "stream",
     "text": [
      "  Agency    Agency Type Distribution Channel              Product Name Claim  \\\n",
      "0    JZI       Airlines               Online                Basic Plan    No   \n",
      "1    EPX  Travel Agency               Online         Cancellation Plan    No   \n",
      "2    EPX  Travel Agency               Online  2 way Comprehensive Plan    No   \n",
      "3    EPX  Travel Agency               Online  2 way Comprehensive Plan    No   \n",
      "4    EPX  Travel Agency               Online         Cancellation Plan    No   \n",
      "\n",
      "   Duration                Destination  Net Sales  Commission (in value)  \\\n",
      "0     104.0  TAIWAN, PROVINCE OF CHINA       35.0                  12.25   \n",
      "1      47.0                      CHILE       80.0                   0.00   \n",
      "2      63.0                      CHINA       35.0                   0.00   \n",
      "3      39.0                  INDONESIA       20.0                   0.00   \n",
      "4      21.0                      INDIA       29.0                   0.00   \n",
      "\n",
      "  Gender   Age  \n",
      "0      M  34.0  \n",
      "1    NaN  36.0  \n",
      "2    NaN  36.0  \n",
      "3    NaN  36.0  \n",
      "4    NaN  36.0  \n"
     ]
    }
   ],
   "execution_count": 1
  },
  {
   "metadata": {
    "ExecuteTime": {
     "end_time": "2025-04-25T23:04:39.935446Z",
     "start_time": "2025-04-25T23:04:39.913504Z"
    }
   },
   "cell_type": "code",
   "source": [
    "# Check for missing values and calculate the percentage\n",
    "missing_values = df.isnull().sum()\n",
    "missing_percentage = (missing_values / len(df)) * 100\n",
    "\n",
    "# Combine into a single DataFrame for better readability\n",
    "missing_summary = pd.DataFrame({\n",
    "    'Missing Values': missing_values,\n",
    "    'Percentage': missing_percentage\n",
    "}).sort_values(by='Percentage', ascending=False)\n",
    "\n",
    "# Display the summary\n",
    "print(missing_summary)\n",
    "\n"
   ],
   "id": "1ec789fa3fc80527",
   "outputs": [
    {
     "name": "stdout",
     "output_type": "stream",
     "text": [
      "                       Missing Values  Percentage\n",
      "Gender                          16962   79.633803\n",
      "Claim                               1    0.004695\n",
      "Destination                         1    0.004695\n",
      "Commission (in value)               1    0.004695\n",
      "Net Sales                           1    0.004695\n",
      "Age                                 1    0.004695\n",
      "Duration                            1    0.004695\n",
      "Distribution Channel                0    0.000000\n",
      "Agency Type                         0    0.000000\n",
      "Agency                              0    0.000000\n",
      "Product Name                        0    0.000000\n"
     ]
    }
   ],
   "execution_count": 2
  },
  {
   "metadata": {
    "ExecuteTime": {
     "end_time": "2025-04-25T23:04:39.982682Z",
     "start_time": "2025-04-25T23:04:39.937447Z"
    }
   },
   "cell_type": "code",
   "source": [
    "# Drop a single column by name\n",
    "df.dropna()\n"
   ],
   "id": "1e7c98c60ba9209e",
   "outputs": [
    {
     "data": {
      "text/plain": [
       "      Agency Agency Type Distribution Channel Product Name Claim  Duration  \\\n",
       "0        JZI    Airlines               Online   Basic Plan    No     104.0   \n",
       "5        JZI    Airlines               Online   Basic Plan    No       2.0   \n",
       "8        JZI    Airlines               Online   Basic Plan    No       3.0   \n",
       "9        JWT    Airlines               Online   Value Plan    No       1.0   \n",
       "15       JZI    Airlines               Online   Basic Plan    No      14.0   \n",
       "...      ...         ...                  ...          ...   ...       ...   \n",
       "21283    C2B    Airlines               Online  Bronze Plan    No      20.0   \n",
       "21284    C2B    Airlines               Online  Bronze Plan    No      16.0   \n",
       "21287    JZI    Airlines               Online   Basic Plan    No      15.0   \n",
       "21293    C2B    Airlines               Online  Silver Plan    No       6.0   \n",
       "21296    JZI    Airlines               Online   Basic Plan    No      22.0   \n",
       "\n",
       "                     Destination  Net Sales  Commission (in value) Gender  \\\n",
       "0      TAIWAN, PROVINCE OF CHINA      35.00                  12.25      M   \n",
       "5                       MALAYSIA      18.00                   6.30      M   \n",
       "8                       MALAYSIA      18.00                   6.30      M   \n",
       "9                          INDIA      62.00                  24.80      M   \n",
       "15                     HONG KONG      26.00                   9.10      F   \n",
       "...                          ...        ...                    ...    ...   \n",
       "21283                  SINGAPORE      27.00                   6.75      F   \n",
       "21284                  SINGAPORE      27.00                   6.75      F   \n",
       "21287                   MALAYSIA      18.00                   6.30      M   \n",
       "21293                  SINGAPORE      24.05                   6.01      F   \n",
       "21296                   VIET NAM      22.00                   7.70      F   \n",
       "\n",
       "         Age  \n",
       "0       34.0  \n",
       "5       44.0  \n",
       "8       45.0  \n",
       "9      118.0  \n",
       "15      43.0  \n",
       "...      ...  \n",
       "21283   51.0  \n",
       "21284   34.0  \n",
       "21287   35.0  \n",
       "21293   27.0  \n",
       "21296   32.0  \n",
       "\n",
       "[4338 rows x 11 columns]"
      ],
      "text/html": [
       "<div>\n",
       "<style scoped>\n",
       "    .dataframe tbody tr th:only-of-type {\n",
       "        vertical-align: middle;\n",
       "    }\n",
       "\n",
       "    .dataframe tbody tr th {\n",
       "        vertical-align: top;\n",
       "    }\n",
       "\n",
       "    .dataframe thead th {\n",
       "        text-align: right;\n",
       "    }\n",
       "</style>\n",
       "<table border=\"1\" class=\"dataframe\">\n",
       "  <thead>\n",
       "    <tr style=\"text-align: right;\">\n",
       "      <th></th>\n",
       "      <th>Agency</th>\n",
       "      <th>Agency Type</th>\n",
       "      <th>Distribution Channel</th>\n",
       "      <th>Product Name</th>\n",
       "      <th>Claim</th>\n",
       "      <th>Duration</th>\n",
       "      <th>Destination</th>\n",
       "      <th>Net Sales</th>\n",
       "      <th>Commission (in value)</th>\n",
       "      <th>Gender</th>\n",
       "      <th>Age</th>\n",
       "    </tr>\n",
       "  </thead>\n",
       "  <tbody>\n",
       "    <tr>\n",
       "      <th>0</th>\n",
       "      <td>JZI</td>\n",
       "      <td>Airlines</td>\n",
       "      <td>Online</td>\n",
       "      <td>Basic Plan</td>\n",
       "      <td>No</td>\n",
       "      <td>104.0</td>\n",
       "      <td>TAIWAN, PROVINCE OF CHINA</td>\n",
       "      <td>35.00</td>\n",
       "      <td>12.25</td>\n",
       "      <td>M</td>\n",
       "      <td>34.0</td>\n",
       "    </tr>\n",
       "    <tr>\n",
       "      <th>5</th>\n",
       "      <td>JZI</td>\n",
       "      <td>Airlines</td>\n",
       "      <td>Online</td>\n",
       "      <td>Basic Plan</td>\n",
       "      <td>No</td>\n",
       "      <td>2.0</td>\n",
       "      <td>MALAYSIA</td>\n",
       "      <td>18.00</td>\n",
       "      <td>6.30</td>\n",
       "      <td>M</td>\n",
       "      <td>44.0</td>\n",
       "    </tr>\n",
       "    <tr>\n",
       "      <th>8</th>\n",
       "      <td>JZI</td>\n",
       "      <td>Airlines</td>\n",
       "      <td>Online</td>\n",
       "      <td>Basic Plan</td>\n",
       "      <td>No</td>\n",
       "      <td>3.0</td>\n",
       "      <td>MALAYSIA</td>\n",
       "      <td>18.00</td>\n",
       "      <td>6.30</td>\n",
       "      <td>M</td>\n",
       "      <td>45.0</td>\n",
       "    </tr>\n",
       "    <tr>\n",
       "      <th>9</th>\n",
       "      <td>JWT</td>\n",
       "      <td>Airlines</td>\n",
       "      <td>Online</td>\n",
       "      <td>Value Plan</td>\n",
       "      <td>No</td>\n",
       "      <td>1.0</td>\n",
       "      <td>INDIA</td>\n",
       "      <td>62.00</td>\n",
       "      <td>24.80</td>\n",
       "      <td>M</td>\n",
       "      <td>118.0</td>\n",
       "    </tr>\n",
       "    <tr>\n",
       "      <th>15</th>\n",
       "      <td>JZI</td>\n",
       "      <td>Airlines</td>\n",
       "      <td>Online</td>\n",
       "      <td>Basic Plan</td>\n",
       "      <td>No</td>\n",
       "      <td>14.0</td>\n",
       "      <td>HONG KONG</td>\n",
       "      <td>26.00</td>\n",
       "      <td>9.10</td>\n",
       "      <td>F</td>\n",
       "      <td>43.0</td>\n",
       "    </tr>\n",
       "    <tr>\n",
       "      <th>...</th>\n",
       "      <td>...</td>\n",
       "      <td>...</td>\n",
       "      <td>...</td>\n",
       "      <td>...</td>\n",
       "      <td>...</td>\n",
       "      <td>...</td>\n",
       "      <td>...</td>\n",
       "      <td>...</td>\n",
       "      <td>...</td>\n",
       "      <td>...</td>\n",
       "      <td>...</td>\n",
       "    </tr>\n",
       "    <tr>\n",
       "      <th>21283</th>\n",
       "      <td>C2B</td>\n",
       "      <td>Airlines</td>\n",
       "      <td>Online</td>\n",
       "      <td>Bronze Plan</td>\n",
       "      <td>No</td>\n",
       "      <td>20.0</td>\n",
       "      <td>SINGAPORE</td>\n",
       "      <td>27.00</td>\n",
       "      <td>6.75</td>\n",
       "      <td>F</td>\n",
       "      <td>51.0</td>\n",
       "    </tr>\n",
       "    <tr>\n",
       "      <th>21284</th>\n",
       "      <td>C2B</td>\n",
       "      <td>Airlines</td>\n",
       "      <td>Online</td>\n",
       "      <td>Bronze Plan</td>\n",
       "      <td>No</td>\n",
       "      <td>16.0</td>\n",
       "      <td>SINGAPORE</td>\n",
       "      <td>27.00</td>\n",
       "      <td>6.75</td>\n",
       "      <td>F</td>\n",
       "      <td>34.0</td>\n",
       "    </tr>\n",
       "    <tr>\n",
       "      <th>21287</th>\n",
       "      <td>JZI</td>\n",
       "      <td>Airlines</td>\n",
       "      <td>Online</td>\n",
       "      <td>Basic Plan</td>\n",
       "      <td>No</td>\n",
       "      <td>15.0</td>\n",
       "      <td>MALAYSIA</td>\n",
       "      <td>18.00</td>\n",
       "      <td>6.30</td>\n",
       "      <td>M</td>\n",
       "      <td>35.0</td>\n",
       "    </tr>\n",
       "    <tr>\n",
       "      <th>21293</th>\n",
       "      <td>C2B</td>\n",
       "      <td>Airlines</td>\n",
       "      <td>Online</td>\n",
       "      <td>Silver Plan</td>\n",
       "      <td>No</td>\n",
       "      <td>6.0</td>\n",
       "      <td>SINGAPORE</td>\n",
       "      <td>24.05</td>\n",
       "      <td>6.01</td>\n",
       "      <td>F</td>\n",
       "      <td>27.0</td>\n",
       "    </tr>\n",
       "    <tr>\n",
       "      <th>21296</th>\n",
       "      <td>JZI</td>\n",
       "      <td>Airlines</td>\n",
       "      <td>Online</td>\n",
       "      <td>Basic Plan</td>\n",
       "      <td>No</td>\n",
       "      <td>22.0</td>\n",
       "      <td>VIET NAM</td>\n",
       "      <td>22.00</td>\n",
       "      <td>7.70</td>\n",
       "      <td>F</td>\n",
       "      <td>32.0</td>\n",
       "    </tr>\n",
       "  </tbody>\n",
       "</table>\n",
       "<p>4338 rows × 11 columns</p>\n",
       "</div>"
      ]
     },
     "execution_count": 3,
     "metadata": {},
     "output_type": "execute_result"
    }
   ],
   "execution_count": 3
  },
  {
   "metadata": {
    "ExecuteTime": {
     "end_time": "2025-04-25T23:04:39.995676Z",
     "start_time": "2025-04-25T23:04:39.986681Z"
    }
   },
   "cell_type": "code",
   "source": "df.dtypes",
   "id": "cbf241eed586c740",
   "outputs": [
    {
     "data": {
      "text/plain": [
       "Agency                    object\n",
       "Agency Type               object\n",
       "Distribution Channel      object\n",
       "Product Name              object\n",
       "Claim                     object\n",
       "Duration                 float64\n",
       "Destination               object\n",
       "Net Sales                float64\n",
       "Commission (in value)    float64\n",
       "Gender                    object\n",
       "Age                      float64\n",
       "dtype: object"
      ]
     },
     "execution_count": 4,
     "metadata": {},
     "output_type": "execute_result"
    }
   ],
   "execution_count": 4
  },
  {
   "metadata": {
    "ExecuteTime": {
     "end_time": "2025-04-25T23:04:40.018574Z",
     "start_time": "2025-04-25T23:04:39.997676Z"
    }
   },
   "cell_type": "code",
   "source": [
    "# Change column data types\n",
    "df = df.astype({\n",
    "    'Agency': 'string',\n",
    "    'Agency Type': 'string',\n",
    "    'Distribution Channel': 'string',\n",
    "    'Product Name': 'string',\n",
    "    'Claim': 'string',\n",
    "    'Duration': 'float64',\n",
    "    'Destination': 'string',\n",
    "    'Net Sales': 'float64',\n",
    "    'Commission (in value)': 'float64'\n",
    "})\n",
    "\n",
    "# Verify the changes\n",
    "print(df.dtypes)"
   ],
   "id": "19d461fa9593d27f",
   "outputs": [
    {
     "name": "stdout",
     "output_type": "stream",
     "text": [
      "Agency                   string[python]\n",
      "Agency Type              string[python]\n",
      "Distribution Channel     string[python]\n",
      "Product Name             string[python]\n",
      "Claim                    string[python]\n",
      "Duration                        float64\n",
      "Destination              string[python]\n",
      "Net Sales                       float64\n",
      "Commission (in value)           float64\n",
      "Gender                           object\n",
      "Age                             float64\n",
      "dtype: object\n"
     ]
    }
   ],
   "execution_count": 5
  },
  {
   "metadata": {
    "ExecuteTime": {
     "end_time": "2025-04-25T23:04:40.037090Z",
     "start_time": "2025-04-25T23:04:40.019572Z"
    }
   },
   "cell_type": "code",
   "source": "df.drop('Agency', axis=1, inplace=True)",
   "id": "d193b30c1a3b7fbd",
   "outputs": [],
   "execution_count": 6
  },
  {
   "metadata": {
    "ExecuteTime": {
     "end_time": "2025-04-25T23:04:40.064071Z",
     "start_time": "2025-04-25T23:04:40.038087Z"
    }
   },
   "cell_type": "code",
   "source": "print(df.describe())\n",
   "id": "c3a0b714bb730ee4",
   "outputs": [
    {
     "name": "stdout",
     "output_type": "stream",
     "text": [
      "           Duration     Net Sales  Commission (in value)           Age\n",
      "count  21299.000000  21299.000000           21299.000000  21299.000000\n",
      "mean      47.177238     37.586096               7.981518     39.895065\n",
      "std      112.548079     43.274026              16.760875     13.668370\n",
      "min       -2.000000   -389.000000               0.000000      1.000000\n",
      "25%       10.000000     18.000000               0.000000     36.000000\n",
      "50%       23.000000     26.000000               0.000000     36.000000\n",
      "75%       53.000000     44.000000               9.100000     42.000000\n",
      "max     4881.000000    810.000000             283.500000    118.000000\n"
     ]
    }
   ],
   "execution_count": 7
  },
  {
   "metadata": {
    "ExecuteTime": {
     "end_time": "2025-04-25T23:05:20.129121Z",
     "start_time": "2025-04-25T23:05:20.080118Z"
    }
   },
   "cell_type": "code",
   "source": [
    "from sklearn.preprocessing import StandardScaler\n",
    "\n",
    "# Numerical features to scale\n",
    "numerical_features = ['Duration', 'Net Sales', 'Commission (in value)', 'Age']\n",
    "\n",
    "# Categorical features to include\n",
    "categorical_features = [ 'Agency Type', 'Distribution Channel', 'Product Name', 'Destination', 'Claim']\n",
    "\n",
    "# Scale numerical features\n",
    "scaler = StandardScaler()\n",
    "scaled_numerical = scaler.fit_transform(df[numerical_features])\n",
    "\n",
    "# Create a DataFrame for scaled numerical features\n",
    "df_scaled_numerical = pd.DataFrame(scaled_numerical, columns=numerical_features)\n",
    "\n",
    "# Combine scaled numerical and categorical features\n",
    "df_final = pd.concat([df_scaled_numerical, df[categorical_features].reset_index(drop=True)], axis=1)\n",
    "\n",
    "# Verify the resulting DataFrame\n",
    "print(df_final.head())\n",
    "\n",
    "\n"
   ],
   "id": "70ac38613544da3a",
   "outputs": [
    {
     "name": "stdout",
     "output_type": "stream",
     "text": [
      "   Duration  Net Sales  Commission (in value)       Age    Agency Type  \\\n",
      "0  0.504887  -0.059762               0.254675 -0.431303       Airlines   \n",
      "1 -0.001575   0.980147              -0.476211 -0.284976  Travel Agency   \n",
      "2  0.140590  -0.059762              -0.476211 -0.284976  Travel Agency   \n",
      "3 -0.072657  -0.406399              -0.476211 -0.284976  Travel Agency   \n",
      "4 -0.232593  -0.198417              -0.476211 -0.284976  Travel Agency   \n",
      "\n",
      "  Distribution Channel              Product Name                Destination  \\\n",
      "0               Online                Basic Plan  TAIWAN, PROVINCE OF CHINA   \n",
      "1               Online         Cancellation Plan                      CHILE   \n",
      "2               Online  2 way Comprehensive Plan                      CHINA   \n",
      "3               Online  2 way Comprehensive Plan                  INDONESIA   \n",
      "4               Online         Cancellation Plan                      INDIA   \n",
      "\n",
      "  Claim  \n",
      "0    No  \n",
      "1    No  \n",
      "2    No  \n",
      "3    No  \n",
      "4    No  \n"
     ]
    }
   ],
   "execution_count": 9
  },
  {
   "metadata": {
    "ExecuteTime": {
     "end_time": "2025-04-25T23:06:46.100266Z",
     "start_time": "2025-04-25T23:06:46.089452Z"
    }
   },
   "cell_type": "code",
   "source": "df_final.dtypes",
   "id": "fcf43e17c6fad5c2",
   "outputs": [
    {
     "data": {
      "text/plain": [
       "Duration                        float64\n",
       "Net Sales                       float64\n",
       "Commission (in value)           float64\n",
       "Age                             float64\n",
       "Agency Type              string[python]\n",
       "Distribution Channel     string[python]\n",
       "Product Name             string[python]\n",
       "Destination              string[python]\n",
       "Claim                    string[python]\n",
       "dtype: object"
      ]
     },
     "execution_count": 10,
     "metadata": {},
     "output_type": "execute_result"
    }
   ],
   "execution_count": 10
  },
  {
   "metadata": {
    "ExecuteTime": {
     "end_time": "2025-04-25T23:04:40.080966Z",
     "start_time": "2025-04-25T23:04:40.078274Z"
    }
   },
   "cell_type": "code",
   "source": "",
   "id": "ac6c7fa52da96be5",
   "outputs": [],
   "execution_count": 7
  }
 ],
 "metadata": {
  "kernelspec": {
   "display_name": "Python 3",
   "language": "python",
   "name": "python3"
  },
  "language_info": {
   "codemirror_mode": {
    "name": "ipython",
    "version": 2
   },
   "file_extension": ".py",
   "mimetype": "text/x-python",
   "name": "python",
   "nbconvert_exporter": "python",
   "pygments_lexer": "ipython2",
   "version": "2.7.6"
  }
 },
 "nbformat": 4,
 "nbformat_minor": 5
}
