{
 "cells": [
  {
   "cell_type": "code",
   "id": "initial_id",
   "metadata": {
    "collapsed": true,
    "ExecuteTime": {
     "end_time": "2025-04-15T15:08:53.387074Z",
     "start_time": "2025-04-15T15:08:53.382007Z"
    }
   },
   "source": [
    "from models.ml_model import MLModel\n",
    "from utils.public_imports import *"
   ],
   "outputs": [],
   "execution_count": 19
  },
  {
   "metadata": {
    "ExecuteTime": {
     "end_time": "2025-04-15T15:08:55.176861Z",
     "start_time": "2025-04-15T15:08:55.127195Z"
    }
   },
   "cell_type": "code",
   "source": [
    "mdl = MLModel()\n",
    "os.chdir(\"..\")\n",
    "df = mdl.clean_dataset(mdl.process_dataset())\n",
    "print(df)"
   ],
   "id": "f28aa176c1618726",
   "outputs": [
    {
     "name": "stdout",
     "output_type": "stream",
     "text": [
      "Initializing MLModel\n",
      "Error processing dataset: 'NoneType' object has no attribute 'empty'\n"
     ]
    },
    {
     "ename": "ValueError",
     "evalue": "No data available for cleaning",
     "output_type": "error",
     "traceback": [
      "\u001B[31m---------------------------------------------------------------------------\u001B[39m",
      "\u001B[31mValueError\u001B[39m                                Traceback (most recent call last)",
      "\u001B[36mCell\u001B[39m\u001B[36m \u001B[39m\u001B[32mIn[20]\u001B[39m\u001B[32m, line 3\u001B[39m\n\u001B[32m      1\u001B[39m mdl = MLModel()\n\u001B[32m      2\u001B[39m os.chdir(\u001B[33m\"\u001B[39m\u001B[33m..\u001B[39m\u001B[33m\"\u001B[39m)\n\u001B[32m----> \u001B[39m\u001B[32m3\u001B[39m df = \u001B[43mmdl\u001B[49m\u001B[43m.\u001B[49m\u001B[43mclean_dataset\u001B[49m\u001B[43m(\u001B[49m\u001B[43mmdl\u001B[49m\u001B[43m.\u001B[49m\u001B[43mprocess_dataset\u001B[49m\u001B[43m(\u001B[49m\u001B[43m)\u001B[49m\u001B[43m)\u001B[49m\n\u001B[32m      4\u001B[39m \u001B[38;5;28mprint\u001B[39m(df)\n",
      "\u001B[36mFile \u001B[39m\u001B[32mC:\\Projects\\Python\\Machine Learning\\models\\ml_model.py:74\u001B[39m, in \u001B[36mMLModel.clean_dataset\u001B[39m\u001B[34m(self, df)\u001B[39m\n\u001B[32m     69\u001B[39m \u001B[38;5;250m\u001B[39m\u001B[33;03m\"\"\"\u001B[39;00m\n\u001B[32m     70\u001B[39m \u001B[33;03mCleans the dataset by removing duplicates and handling missing values\u001B[39;00m\n\u001B[32m     71\u001B[39m \u001B[33;03m:return: cleaned DataFrame\u001B[39;00m\n\u001B[32m     72\u001B[39m \u001B[33;03m\"\"\"\u001B[39;00m\n\u001B[32m     73\u001B[39m \u001B[38;5;28;01mif\u001B[39;00m df \u001B[38;5;129;01mis\u001B[39;00m \u001B[38;5;28;01mNone\u001B[39;00m:\n\u001B[32m---> \u001B[39m\u001B[32m74\u001B[39m     \u001B[38;5;28;01mraise\u001B[39;00m \u001B[38;5;167;01mValueError\u001B[39;00m(\u001B[33m\"\u001B[39m\u001B[33mNo data available for cleaning\u001B[39m\u001B[33m\"\u001B[39m)\n\u001B[32m     75\u001B[39m \u001B[38;5;28;01mtry\u001B[39;00m:\n\u001B[32m     76\u001B[39m     df = df.dropna()\n",
      "\u001B[31mValueError\u001B[39m: No data available for cleaning"
     ]
    }
   ],
   "execution_count": 20
  }
 ],
 "metadata": {
  "kernelspec": {
   "display_name": "Python 3",
   "language": "python",
   "name": "python3"
  },
  "language_info": {
   "codemirror_mode": {
    "name": "ipython",
    "version": 2
   },
   "file_extension": ".py",
   "mimetype": "text/x-python",
   "name": "python",
   "nbconvert_exporter": "python",
   "pygments_lexer": "ipython2",
   "version": "2.7.6"
  }
 },
 "nbformat": 4,
 "nbformat_minor": 5
}
