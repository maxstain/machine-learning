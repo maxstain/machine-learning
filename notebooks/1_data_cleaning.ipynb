{
 "cells": [
  {
   "cell_type": "code",
   "id": "initial_id",
   "metadata": {
    "collapsed": true,
    "ExecuteTime": {
     "end_time": "2025-04-11T13:38:19.999590Z",
     "start_time": "2025-04-11T13:38:16.854738Z"
    }
   },
   "source": [
    "from src.data.data_cleaner import DataCleaner\n",
    "from src.data.data_loader import DataLoader\n",
    "from src.utils.public_imports import *"
   ],
   "outputs": [],
   "execution_count": 1
  },
  {
   "metadata": {
    "ExecuteTime": {
     "end_time": "2025-04-11T13:40:56.030657Z",
     "start_time": "2025-04-11T13:40:55.980957Z"
    }
   },
   "cell_type": "code",
   "source": [
    "# Load the data\n",
    "data_loader = DataLoader('../data/raw/dataset.csv')\n",
    "raw_data = data_loader.load_data()"
   ],
   "id": "f28aa176c1618726",
   "outputs": [],
   "execution_count": 14
  },
  {
   "metadata": {
    "ExecuteTime": {
     "end_time": "2025-04-11T13:40:57.743982Z",
     "start_time": "2025-04-11T13:40:57.728510Z"
    }
   },
   "cell_type": "code",
   "source": [
    "# Display the first few rows of the raw data\n",
    "raw_data.head()"
   ],
   "id": "49f7d590a23a8c96",
   "outputs": [
    {
     "data": {
      "text/plain": [
       "  Agency    Agency Type Distribution Channel              Product Name Claim  \\\n",
       "0    JZI       Airlines               Online                Basic Plan    No   \n",
       "1    EPX  Travel Agency               Online         Cancellation Plan    No   \n",
       "2    EPX  Travel Agency               Online  2 way Comprehensive Plan    No   \n",
       "3    EPX  Travel Agency               Online  2 way Comprehensive Plan    No   \n",
       "4    EPX  Travel Agency               Online         Cancellation Plan    No   \n",
       "\n",
       "   Duration                Destination  Net Sales  Commission (in value)  \\\n",
       "0     104.0  TAIWAN, PROVINCE OF CHINA       35.0                  12.25   \n",
       "1      47.0                      CHILE       80.0                   0.00   \n",
       "2      63.0                      CHINA       35.0                   0.00   \n",
       "3      39.0                  INDONESIA       20.0                   0.00   \n",
       "4      21.0                      INDIA       29.0                   0.00   \n",
       "\n",
       "  Gender   Age  \n",
       "0      M  34.0  \n",
       "1    NaN  36.0  \n",
       "2    NaN  36.0  \n",
       "3    NaN  36.0  \n",
       "4    NaN  36.0  "
      ],
      "text/html": [
       "<div>\n",
       "<style scoped>\n",
       "    .dataframe tbody tr th:only-of-type {\n",
       "        vertical-align: middle;\n",
       "    }\n",
       "\n",
       "    .dataframe tbody tr th {\n",
       "        vertical-align: top;\n",
       "    }\n",
       "\n",
       "    .dataframe thead th {\n",
       "        text-align: right;\n",
       "    }\n",
       "</style>\n",
       "<table border=\"1\" class=\"dataframe\">\n",
       "  <thead>\n",
       "    <tr style=\"text-align: right;\">\n",
       "      <th></th>\n",
       "      <th>Agency</th>\n",
       "      <th>Agency Type</th>\n",
       "      <th>Distribution Channel</th>\n",
       "      <th>Product Name</th>\n",
       "      <th>Claim</th>\n",
       "      <th>Duration</th>\n",
       "      <th>Destination</th>\n",
       "      <th>Net Sales</th>\n",
       "      <th>Commission (in value)</th>\n",
       "      <th>Gender</th>\n",
       "      <th>Age</th>\n",
       "    </tr>\n",
       "  </thead>\n",
       "  <tbody>\n",
       "    <tr>\n",
       "      <th>0</th>\n",
       "      <td>JZI</td>\n",
       "      <td>Airlines</td>\n",
       "      <td>Online</td>\n",
       "      <td>Basic Plan</td>\n",
       "      <td>No</td>\n",
       "      <td>104.0</td>\n",
       "      <td>TAIWAN, PROVINCE OF CHINA</td>\n",
       "      <td>35.0</td>\n",
       "      <td>12.25</td>\n",
       "      <td>M</td>\n",
       "      <td>34.0</td>\n",
       "    </tr>\n",
       "    <tr>\n",
       "      <th>1</th>\n",
       "      <td>EPX</td>\n",
       "      <td>Travel Agency</td>\n",
       "      <td>Online</td>\n",
       "      <td>Cancellation Plan</td>\n",
       "      <td>No</td>\n",
       "      <td>47.0</td>\n",
       "      <td>CHILE</td>\n",
       "      <td>80.0</td>\n",
       "      <td>0.00</td>\n",
       "      <td>NaN</td>\n",
       "      <td>36.0</td>\n",
       "    </tr>\n",
       "    <tr>\n",
       "      <th>2</th>\n",
       "      <td>EPX</td>\n",
       "      <td>Travel Agency</td>\n",
       "      <td>Online</td>\n",
       "      <td>2 way Comprehensive Plan</td>\n",
       "      <td>No</td>\n",
       "      <td>63.0</td>\n",
       "      <td>CHINA</td>\n",
       "      <td>35.0</td>\n",
       "      <td>0.00</td>\n",
       "      <td>NaN</td>\n",
       "      <td>36.0</td>\n",
       "    </tr>\n",
       "    <tr>\n",
       "      <th>3</th>\n",
       "      <td>EPX</td>\n",
       "      <td>Travel Agency</td>\n",
       "      <td>Online</td>\n",
       "      <td>2 way Comprehensive Plan</td>\n",
       "      <td>No</td>\n",
       "      <td>39.0</td>\n",
       "      <td>INDONESIA</td>\n",
       "      <td>20.0</td>\n",
       "      <td>0.00</td>\n",
       "      <td>NaN</td>\n",
       "      <td>36.0</td>\n",
       "    </tr>\n",
       "    <tr>\n",
       "      <th>4</th>\n",
       "      <td>EPX</td>\n",
       "      <td>Travel Agency</td>\n",
       "      <td>Online</td>\n",
       "      <td>Cancellation Plan</td>\n",
       "      <td>No</td>\n",
       "      <td>21.0</td>\n",
       "      <td>INDIA</td>\n",
       "      <td>29.0</td>\n",
       "      <td>0.00</td>\n",
       "      <td>NaN</td>\n",
       "      <td>36.0</td>\n",
       "    </tr>\n",
       "  </tbody>\n",
       "</table>\n",
       "</div>"
      ]
     },
     "execution_count": 15,
     "metadata": {},
     "output_type": "execute_result"
    }
   ],
   "execution_count": 15
  },
  {
   "metadata": {
    "ExecuteTime": {
     "end_time": "2025-04-11T13:40:59.685990Z",
     "start_time": "2025-04-11T13:40:59.677713Z"
    }
   },
   "cell_type": "code",
   "source": [
    "# Display the data types of the raw data\n",
    "raw_data.dtypes"
   ],
   "id": "3906a46d6d402205",
   "outputs": [
    {
     "data": {
      "text/plain": [
       "Agency                    object\n",
       "Agency Type               object\n",
       "Distribution Channel      object\n",
       "Product Name              object\n",
       "Claim                     object\n",
       "Duration                 float64\n",
       "Destination               object\n",
       "Net Sales                float64\n",
       "Commission (in value)    float64\n",
       "Gender                    object\n",
       "Age                      float64\n",
       "dtype: object"
      ]
     },
     "execution_count": 16,
     "metadata": {},
     "output_type": "execute_result"
    }
   ],
   "execution_count": 16
  },
  {
   "metadata": {
    "ExecuteTime": {
     "end_time": "2025-04-11T13:41:01.650322Z",
     "start_time": "2025-04-11T13:41:01.640336Z"
    }
   },
   "cell_type": "code",
   "source": [
    "# Display the shape of the raw data\n",
    "raw_data.shape"
   ],
   "id": "7b1196e26e237844",
   "outputs": [
    {
     "data": {
      "text/plain": [
       "(21300, 11)"
      ]
     },
     "execution_count": 17,
     "metadata": {},
     "output_type": "execute_result"
    }
   ],
   "execution_count": 17
  },
  {
   "metadata": {
    "ExecuteTime": {
     "end_time": "2025-04-11T13:41:03.277795Z",
     "start_time": "2025-04-11T13:41:03.242338Z"
    }
   },
   "cell_type": "code",
   "source": [
    "# Display the summary statistics of the raw data\n",
    "raw_data.describe()"
   ],
   "id": "3c60b49cbfad4bbd",
   "outputs": [
    {
     "data": {
      "text/plain": [
       "           Duration     Net Sales  Commission (in value)           Age\n",
       "count  21299.000000  21299.000000           21299.000000  21299.000000\n",
       "mean      47.177238     37.586096               7.981518     39.895065\n",
       "std      112.548079     43.274026              16.760875     13.668370\n",
       "min       -2.000000   -389.000000               0.000000      1.000000\n",
       "25%       10.000000     18.000000               0.000000     36.000000\n",
       "50%       23.000000     26.000000               0.000000     36.000000\n",
       "75%       53.000000     44.000000               9.100000     42.000000\n",
       "max     4881.000000    810.000000             283.500000    118.000000"
      ],
      "text/html": [
       "<div>\n",
       "<style scoped>\n",
       "    .dataframe tbody tr th:only-of-type {\n",
       "        vertical-align: middle;\n",
       "    }\n",
       "\n",
       "    .dataframe tbody tr th {\n",
       "        vertical-align: top;\n",
       "    }\n",
       "\n",
       "    .dataframe thead th {\n",
       "        text-align: right;\n",
       "    }\n",
       "</style>\n",
       "<table border=\"1\" class=\"dataframe\">\n",
       "  <thead>\n",
       "    <tr style=\"text-align: right;\">\n",
       "      <th></th>\n",
       "      <th>Duration</th>\n",
       "      <th>Net Sales</th>\n",
       "      <th>Commission (in value)</th>\n",
       "      <th>Age</th>\n",
       "    </tr>\n",
       "  </thead>\n",
       "  <tbody>\n",
       "    <tr>\n",
       "      <th>count</th>\n",
       "      <td>21299.000000</td>\n",
       "      <td>21299.000000</td>\n",
       "      <td>21299.000000</td>\n",
       "      <td>21299.000000</td>\n",
       "    </tr>\n",
       "    <tr>\n",
       "      <th>mean</th>\n",
       "      <td>47.177238</td>\n",
       "      <td>37.586096</td>\n",
       "      <td>7.981518</td>\n",
       "      <td>39.895065</td>\n",
       "    </tr>\n",
       "    <tr>\n",
       "      <th>std</th>\n",
       "      <td>112.548079</td>\n",
       "      <td>43.274026</td>\n",
       "      <td>16.760875</td>\n",
       "      <td>13.668370</td>\n",
       "    </tr>\n",
       "    <tr>\n",
       "      <th>min</th>\n",
       "      <td>-2.000000</td>\n",
       "      <td>-389.000000</td>\n",
       "      <td>0.000000</td>\n",
       "      <td>1.000000</td>\n",
       "    </tr>\n",
       "    <tr>\n",
       "      <th>25%</th>\n",
       "      <td>10.000000</td>\n",
       "      <td>18.000000</td>\n",
       "      <td>0.000000</td>\n",
       "      <td>36.000000</td>\n",
       "    </tr>\n",
       "    <tr>\n",
       "      <th>50%</th>\n",
       "      <td>23.000000</td>\n",
       "      <td>26.000000</td>\n",
       "      <td>0.000000</td>\n",
       "      <td>36.000000</td>\n",
       "    </tr>\n",
       "    <tr>\n",
       "      <th>75%</th>\n",
       "      <td>53.000000</td>\n",
       "      <td>44.000000</td>\n",
       "      <td>9.100000</td>\n",
       "      <td>42.000000</td>\n",
       "    </tr>\n",
       "    <tr>\n",
       "      <th>max</th>\n",
       "      <td>4881.000000</td>\n",
       "      <td>810.000000</td>\n",
       "      <td>283.500000</td>\n",
       "      <td>118.000000</td>\n",
       "    </tr>\n",
       "  </tbody>\n",
       "</table>\n",
       "</div>"
      ]
     },
     "execution_count": 18,
     "metadata": {},
     "output_type": "execute_result"
    }
   ],
   "execution_count": 18
  },
  {
   "metadata": {
    "ExecuteTime": {
     "end_time": "2025-04-11T13:41:05.174425Z",
     "start_time": "2025-04-11T13:41:05.150398Z"
    }
   },
   "cell_type": "code",
   "source": [
    "# Display the missing values in the raw data\n",
    "raw_data.isnull().sum()"
   ],
   "id": "b0da7ca763b215bb",
   "outputs": [
    {
     "data": {
      "text/plain": [
       "Agency                       0\n",
       "Agency Type                  0\n",
       "Distribution Channel         0\n",
       "Product Name                 0\n",
       "Claim                        1\n",
       "Duration                     1\n",
       "Destination                  1\n",
       "Net Sales                    1\n",
       "Commission (in value)        1\n",
       "Gender                   16962\n",
       "Age                          1\n",
       "dtype: int64"
      ]
     },
     "execution_count": 19,
     "metadata": {},
     "output_type": "execute_result"
    }
   ],
   "execution_count": 19
  },
  {
   "metadata": {
    "ExecuteTime": {
     "end_time": "2025-04-11T13:41:07.254623Z",
     "start_time": "2025-04-11T13:41:07.245355Z"
    }
   },
   "cell_type": "code",
   "source": [
    "# Display the unique values in the 'Agency' column\n",
    "raw_data['Agency'].unique()"
   ],
   "id": "f326f95625f4803",
   "outputs": [
    {
     "data": {
      "text/plain": [
       "array(['JZI', 'EPX', 'JWT', 'CWT', 'SSI', 'RAB', 'C2B', 'ART', 'KML',\n",
       "       'CCR', 'CSR', 'CBH', 'ADM'], dtype=object)"
      ]
     },
     "execution_count": 20,
     "metadata": {},
     "output_type": "execute_result"
    }
   ],
   "execution_count": 20
  },
  {
   "metadata": {
    "ExecuteTime": {
     "end_time": "2025-04-12T21:43:53.458095Z",
     "start_time": "2025-04-12T21:43:53.402290Z"
    }
   },
   "cell_type": "code",
   "source": [
    "# Clean the data\n",
    "data_cleaner = DataCleaner()\n",
    "cleaned_data = data_cleaner.clean_data(raw_data)"
   ],
   "id": "94bae10767d28ae8",
   "outputs": [
    {
     "ename": "NameError",
     "evalue": "name 'DataCleaner' is not defined",
     "output_type": "error",
     "traceback": [
      "\u001B[31m---------------------------------------------------------------------------\u001B[39m",
      "\u001B[31mNameError\u001B[39m                                 Traceback (most recent call last)",
      "\u001B[36mCell\u001B[39m\u001B[36m \u001B[39m\u001B[32mIn[3]\u001B[39m\u001B[32m, line 2\u001B[39m\n\u001B[32m      1\u001B[39m \u001B[38;5;66;03m# Clean the data\u001B[39;00m\n\u001B[32m----> \u001B[39m\u001B[32m2\u001B[39m data_cleaner = \u001B[43mDataCleaner\u001B[49m()\n\u001B[32m      3\u001B[39m cleaned_data = data_cleaner.clean_data(raw_data)\n",
      "\u001B[31mNameError\u001B[39m: name 'DataCleaner' is not defined"
     ]
    }
   ],
   "execution_count": 3
  },
  {
   "metadata": {},
   "cell_type": "code",
   "outputs": [],
   "execution_count": null,
   "source": [
    "# Display the first few rows of the cleaned data\n",
    "cleaned_data.head()"
   ],
   "id": "22ae21fce643d418"
  },
  {
   "metadata": {},
   "cell_type": "code",
   "outputs": [],
   "execution_count": null,
   "source": [
    "# Display the data types of the cleaned data\n",
    "cleaned_data.dtypes"
   ],
   "id": "cab79e0d4118479f"
  },
  {
   "metadata": {},
   "cell_type": "code",
   "outputs": [],
   "execution_count": null,
   "source": [
    "# Display the shape of the cleaned data\n",
    "cleaned_data.shape"
   ],
   "id": "249b18542d66cab5"
  },
  {
   "metadata": {},
   "cell_type": "code",
   "outputs": [],
   "execution_count": null,
   "source": [
    "# Display the summary statistics of the cleaned data\n",
    "cleaned_data.describe()"
   ],
   "id": "feba7a4e14fdac6b"
  }
 ],
 "metadata": {
  "kernelspec": {
   "display_name": "Python 3",
   "language": "python",
   "name": "python3"
  },
  "language_info": {
   "codemirror_mode": {
    "name": "ipython",
    "version": 2
   },
   "file_extension": ".py",
   "mimetype": "text/x-python",
   "name": "python",
   "nbconvert_exporter": "python",
   "pygments_lexer": "ipython2",
   "version": "2.7.6"
  }
 },
 "nbformat": 4,
 "nbformat_minor": 5
}
